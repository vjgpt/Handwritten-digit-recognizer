{
  "nbformat": 4,
  "nbformat_minor": 0,
  "metadata": {
    "colab": {
      "name": "digits_classification.ipynb",
      "version": "0.3.2",
      "provenance": []
    },
    "kernelspec": {
      "name": "python3",
      "display_name": "Python 3"
    }
  },
  "cells": [
    {
      "metadata": {
        "id": "SLuyu8j41Ycn",
        "colab_type": "code",
        "colab": {
          "base_uri": "https://localhost:8080/",
          "height": 272
        },
        "outputId": "a0c6f1fa-1c62-4bb5-b9ef-045951ccf288"
      },
      "cell_type": "code",
      "source": [
        "import tensorflow as tf\n",
        "from tensorflow.examples.tutorials.mnist import input_data\n",
        "\n",
        "mnist = input_data.read_data_sets(\"model_data/\", one_hot=True)\n",
        "\n",
        "n_nodes_hl1 = 500\n",
        "n_nodes_hl2 = 500\n",
        "n_nodes_hl3 = 500\n",
        "n_classes = 10\n",
        "batch_size = 100\n",
        "\n",
        "x = tf.placeholder('float', [None, 784])\n",
        "y = tf.placeholder('float')\n",
        "\n",
        "def neural_network_model(data):\n",
        "\thidden_layer_1 = {'weights': tf.Variable(tf.random_normal([784,n_nodes_hl1])),\n",
        "\t\t\t\t\t\t'biases': tf.Variable(tf.random_normal([n_nodes_hl1]))}\n",
        "\n",
        "\thidden_layer_2 = { 'weights' : tf.Variable(tf.random_normal([n_nodes_hl1,n_nodes_hl2])),\n",
        "\t\t\t\t\t\t'biases' : tf.Variable(tf.random_normal([n_nodes_hl2]))}\n",
        "\n",
        "\thidden_layer_3 = { 'weights' : tf.Variable(tf.random_normal([n_nodes_hl2,n_nodes_hl3])),\n",
        "\t\t\t\t\t\t'biases' : tf.Variable(tf.random_normal([n_nodes_hl3]))}\n",
        "\n",
        "\toutput_layer = { 'weights' : tf.Variable(tf.random_normal([n_nodes_hl3,n_classes])),\n",
        "\t\t\t\t\t\t'biases' :tf.Variable(tf.random_normal([n_classes]))}\n",
        "\n",
        "\tl1 = tf.add(tf.matmul(data,hidden_layer_1['weights']),hidden_layer_1['biases'])\n",
        "\tl1 = tf.nn.relu(l1)\n",
        "\n",
        "\tl2 = tf.add(tf.matmul(l1,hidden_layer_2['weights']),hidden_layer_2['biases'])\n",
        "\tl2 = tf.nn.relu(l2)\n",
        "\n",
        "\tl3 = tf.add(tf.matmul(l2,hidden_layer_3['weights']),hidden_layer_3['biases'])\n",
        "\tl3 = tf.nn.relu(l3)\n",
        "\n",
        "\toutput = tf.add(tf.matmul(l3,output_layer['weights']),output_layer['biases'])\n",
        "\n",
        "\treturn output\n",
        "\n",
        "def train_neural_network(x):\n",
        "    prediction = neural_network_model(x)\n",
        "    cost = tf.reduce_mean( tf.nn.softmax_cross_entropy_with_logits_v2(logits=prediction, labels=y) )\n",
        "\n",
        "    optimizer = tf.train.AdamOptimizer().minimize(cost)\n",
        "    hm_epochs = 10\n",
        "    with tf.Session() as sess:\n",
        "        sess.run(tf.global_variables_initializer())\n",
        "        for epoch in range(hm_epochs):\n",
        "            epoch_loss = 0\n",
        "            for _ in range(int(mnist.train.num_examples/batch_size)):\n",
        "                epoch_x, epoch_y = mnist.train.next_batch(batch_size)\n",
        "                _, c = sess.run([optimizer, cost], feed_dict={x: epoch_x, y: epoch_y})\n",
        "                epoch_loss += c\n",
        "\n",
        "            print('Epoch', epoch, 'completed out of',hm_epochs,'loss:',epoch_loss)\n",
        "        correct = tf.equal(tf.argmax(prediction, 1), tf.argmax(y, 1))\n",
        "\n",
        "        accuracy = tf.reduce_mean(tf.cast(correct, 'float'))\n",
        "        print('Accuracy:',accuracy.eval({x:mnist.test.images, y:mnist.test.labels}))\n",
        "\n",
        "train_neural_network(x)                        "
      ],
      "execution_count": 3,
      "outputs": [
        {
          "output_type": "stream",
          "text": [
            "Extracting model_data/train-images-idx3-ubyte.gz\n",
            "Extracting model_data/train-labels-idx1-ubyte.gz\n",
            "Extracting model_data/t10k-images-idx3-ubyte.gz\n",
            "Extracting model_data/t10k-labels-idx1-ubyte.gz\n",
            "Epoch 0 completed out of 10 loss: 1831084.9114990234\n",
            "Epoch 1 completed out of 10 loss: 407929.7202911377\n",
            "Epoch 2 completed out of 10 loss: 215518.73036432266\n",
            "Epoch 3 completed out of 10 loss: 126052.27629256248\n",
            "Epoch 4 completed out of 10 loss: 77946.71208751202\n",
            "Epoch 5 completed out of 10 loss: 49653.99306791928\n",
            "Epoch 6 completed out of 10 loss: 31951.82453120123\n",
            "Epoch 7 completed out of 10 loss: 25244.509472180158\n",
            "Epoch 8 completed out of 10 loss: 20121.38553509595\n",
            "Epoch 9 completed out of 10 loss: 18681.070691496134\n",
            "Accuracy: 0.9492\n"
          ],
          "name": "stdout"
        }
      ]
    }
  ]
}
